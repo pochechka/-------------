{
 "cells": [
  {
   "cell_type": "code",
   "execution_count": 2,
   "id": "3ad64379",
   "metadata": {},
   "outputs": [],
   "source": [
    "import numpy as np"
   ]
  },
  {
   "cell_type": "code",
   "execution_count": 2,
   "id": "727cae72",
   "metadata": {},
   "outputs": [
    {
     "name": "stdout",
     "output_type": "stream",
     "text": [
      "int64\n"
     ]
    }
   ],
   "source": [
    "# numpy(object, dtype = None)\n",
    "a = np.array([1, 2, 3, 4])\n",
    "print(a.dtype)"
   ]
  },
  {
   "cell_type": "code",
   "execution_count": 3,
   "id": "9f175bd6",
   "metadata": {},
   "outputs": [
    {
     "name": "stdout",
     "output_type": "stream",
     "text": [
      "<U5\n"
     ]
    }
   ],
   "source": [
    "a = np.array(['1', '2', '3', True])\n",
    "print(a.dtype)"
   ]
  },
  {
   "cell_type": "code",
   "execution_count": 4,
   "id": "143ce0d9",
   "metadata": {},
   "outputs": [
    {
     "name": "stdout",
     "output_type": "stream",
     "text": [
      "1\n"
     ]
    }
   ],
   "source": [
    "print(a[0])"
   ]
  },
  {
   "cell_type": "code",
   "execution_count": 6,
   "id": "a1ae261b",
   "metadata": {},
   "outputs": [
    {
     "name": "stdout",
     "output_type": "stream",
     "text": [
      "['1' '123' '3' 'True']\n"
     ]
    }
   ],
   "source": [
    "a[1] = '123'\n",
    "print(a)"
   ]
  },
  {
   "cell_type": "code",
   "execution_count": 7,
   "id": "5bb1f8fb",
   "metadata": {},
   "outputs": [
    {
     "name": "stdout",
     "output_type": "stream",
     "text": [
      "3\n"
     ]
    }
   ],
   "source": [
    "a = np.array([1, 2, 3, 4, 5, 6, 7, 8, 9])\n",
    "print(a[2])"
   ]
  },
  {
   "cell_type": "code",
   "execution_count": 11,
   "id": "fcaceb24",
   "metadata": {},
   "outputs": [
    {
     "name": "stdout",
     "output_type": "stream",
     "text": [
      "[2 2 2 2 2 2 2 2 2]\n"
     ]
    }
   ],
   "source": [
    "print(a[[1,1,1,1,1,1,1,1,1]])"
   ]
  },
  {
   "cell_type": "code",
   "execution_count": 10,
   "id": "ac46831b",
   "metadata": {},
   "outputs": [
    {
     "name": "stdout",
     "output_type": "stream",
     "text": [
      "[1 2 7 8 9]\n"
     ]
    }
   ],
   "source": [
    "print(a[[True, True, False, False, False, False, True, True, True]])"
   ]
  },
  {
   "cell_type": "code",
   "execution_count": 12,
   "id": "02950958",
   "metadata": {},
   "outputs": [
    {
     "name": "stdout",
     "output_type": "stream",
     "text": [
      "[[1 2 3]\n",
      " [4 5 6]\n",
      " [7 8 9]]\n"
     ]
    }
   ],
   "source": [
    "b = a.reshape(3, 3)\n",
    "print(b)"
   ]
  },
  {
   "cell_type": "code",
   "execution_count": 13,
   "id": "3f78f786",
   "metadata": {},
   "outputs": [
    {
     "name": "stdout",
     "output_type": "stream",
     "text": [
      "6\n"
     ]
    }
   ],
   "source": [
    "print(b[1][2])"
   ]
  },
  {
   "cell_type": "code",
   "execution_count": 14,
   "id": "9dbd26bc",
   "metadata": {},
   "outputs": [
    {
     "name": "stdout",
     "output_type": "stream",
     "text": [
      "[1 2 3 4]\n",
      "[1. 2. 3. 4.]\n"
     ]
    }
   ],
   "source": [
    "# Основные типы данных. Создание массивов функцией array\n",
    "a = np.array([1, 2, 3, 4])\n",
    "print(a)\n",
    "a = np.array([1, 2, 3, 4], 'float64')\n",
    "print(a)"
   ]
  },
  {
   "cell_type": "code",
   "execution_count": 15,
   "id": "90f57f12",
   "metadata": {},
   "outputs": [
    {
     "name": "stdout",
     "output_type": "stream",
     "text": [
      "(10+0j)\n"
     ]
    }
   ],
   "source": [
    "print(np.complex64(10))"
   ]
  },
  {
   "cell_type": "code",
   "execution_count": 16,
   "id": "df4c96e1",
   "metadata": {},
   "outputs": [
    {
     "name": "stdout",
     "output_type": "stream",
     "text": [
      "10\n"
     ]
    }
   ],
   "source": [
    "print(np.int64(10.5))"
   ]
  },
  {
   "cell_type": "code",
   "execution_count": 19,
   "id": "fc33eb1c",
   "metadata": {},
   "outputs": [
    {
     "name": "stdout",
     "output_type": "stream",
     "text": [
      "[   1    2 -120  -24]\n"
     ]
    }
   ],
   "source": [
    "a = np.array([1, 2, 5000, 1000])\n",
    "print(np.int8(a))"
   ]
  },
  {
   "cell_type": "code",
   "execution_count": 20,
   "id": "519f02ee",
   "metadata": {},
   "outputs": [
    {
     "name": "stdout",
     "output_type": "stream",
     "text": [
      "[1.e+00+0.j 2.e+00+0.j 5.e+03+0.j 1.e+03+0.j]\n",
      "[   1    2 5000 1000]\n"
     ]
    },
    {
     "name": "stderr",
     "output_type": "stream",
     "text": [
      "/var/folders/l9/88y_46d53y3cy1jh1h6qdg0c0000gn/T/ipykernel_76261/2879839655.py:3: ComplexWarning: Casting complex values to real discards the imaginary part\n",
      "  c = np.int32(b)\n"
     ]
    }
   ],
   "source": [
    "b = np.complex64(a)\n",
    "print(b)\n",
    "c = np.int32(b)\n",
    "print(c)"
   ]
  },
  {
   "cell_type": "code",
   "execution_count": 21,
   "id": "e6093c14",
   "metadata": {},
   "outputs": [
    {
     "name": "stdout",
     "output_type": "stream",
     "text": [
      "Hello\n"
     ]
    }
   ],
   "source": [
    "print(np.array('Hello'))"
   ]
  },
  {
   "cell_type": "code",
   "execution_count": 24,
   "id": "c0730cb0",
   "metadata": {},
   "outputs": [
    {
     "data": {
      "text/plain": [
       "array([[1, 2],\n",
       "       [3, 4],\n",
       "       [5, 6]])"
      ]
     },
     "execution_count": 24,
     "metadata": {},
     "output_type": "execute_result"
    }
   ],
   "source": [
    "a = np.array([[1, 2], [3, 4], [5, 6]])\n",
    "a"
   ]
  },
  {
   "cell_type": "code",
   "execution_count": 25,
   "id": "baa3f2f2",
   "metadata": {},
   "outputs": [
    {
     "data": {
      "text/plain": [
       "array([[[ 1,  2],\n",
       "        [ 3,  4]],\n",
       "\n",
       "       [[ 5,  6],\n",
       "        [ 7,  8]],\n",
       "\n",
       "       [[ 9, 10],\n",
       "        [11, 12]]])"
      ]
     },
     "execution_count": 25,
     "metadata": {},
     "output_type": "execute_result"
    }
   ],
   "source": [
    "b = np.array([[[1, 2], [3, 4]], [[5, 6], [7, 8]], [[9, 10], [11, 12]]])\n",
    "b"
   ]
  },
  {
   "cell_type": "code",
   "execution_count": 27,
   "id": "ea73d188",
   "metadata": {},
   "outputs": [
    {
     "name": "stdout",
     "output_type": "stream",
     "text": [
      "[0 0 0 0 0 0 0 0 0 0]\n",
      "[1 1 1 1 1 1 1 1 1 1 1 1 1 1 1]\n",
      "[0 1 2 3 4 5 6 7 8 9]\n"
     ]
    }
   ],
   "source": [
    "# Функции автозаполнения, создания матриц и числовых диапазонов\n",
    "print(np.array([0] * 10))\n",
    "print(np.array([1] * 15))\n",
    "print(np.array([x for x in range(10)]))\n",
    "# но эти способы создания массивов работают медленнее,\n",
    "# чем встроенные функции создания определенных видов массивов"
   ]
  },
  {
   "cell_type": "code",
   "execution_count": 33,
   "id": "2d243fb0",
   "metadata": {},
   "outputs": [
    {
     "name": "stdout",
     "output_type": "stream",
     "text": [
      "[0.0e+000 4.9e-324 9.9e-324 1.5e-323 2.0e-323 2.5e-323 3.0e-323 3.5e-323\n",
      " 4.0e-323 4.4e-323]\n",
      "[0 1 2 3 4 5 6 7 8 9]\n",
      "[[257 257]\n",
      " [257 257]\n",
      " [257 257]]\n",
      "\n",
      "[[1. 0. 0. 0.]\n",
      " [0. 1. 0. 0.]\n",
      " [0. 0. 1. 0.]\n",
      " [0. 0. 0. 1.]]\n",
      "[[1. 0.]\n",
      " [0. 1.]\n",
      " [0. 0.]\n",
      " [0. 0.]]\n",
      "\n",
      "[[1. 0. 0. 0. 0.]\n",
      " [0. 1. 0. 0. 0.]\n",
      " [0. 0. 1. 0. 0.]\n",
      " [0. 0. 0. 1. 0.]\n",
      " [0. 0. 0. 0. 1.]]\n",
      "\n",
      "[[[0. 0. 0. 0.]\n",
      "  [0. 0. 0. 0.]\n",
      "  [0. 0. 0. 0.]]\n",
      "\n",
      " [[0. 0. 0. 0.]\n",
      "  [0. 0. 0. 0.]\n",
      "  [0. 0. 0. 0.]]]\n",
      "\n",
      "[[1 1 1]\n",
      " [1 1 1]\n",
      " [1 1 1]\n",
      " [1 1 1]]\n",
      "\n",
      "[[-1 -1]\n",
      " [-1 -1]\n",
      " [-1 -1]]\n"
     ]
    }
   ],
   "source": [
    "# np.empty(shape, ...) - возвращает новый массив заданного размера и типа данных, но без определенных значений\n",
    "# np.eye(N, M = None, ...) - возвращает массив размером N*M с единичными диагональными элементами (остальные 0)\n",
    "# np.identity(n, ...) - возвращает квадратный массив размерностью n*n с единичными элементами по главной диагонали (остальные 0)\n",
    "# np.ones(shape, ...) - возвращает массив заданного размера и типа, состоящего из единиц\n",
    "# np.zeros(shape, ...) - то же, что и ones, но с нулями\n",
    "# np.full(shape, value) - возвращает массив заданного размера и типа со значениями value\n",
    "\n",
    "print(np.empty(10))\n",
    "print(np.empty(10, dtype = 'int64'))\n",
    "print(np.empty((3, 2), dtype = 'int16'), end = '\\n\\n')\n",
    "\n",
    "print(np.eye(4))\n",
    "print(np.eye(4, 2), end = '\\n\\n')\n",
    "\n",
    "print(np.identity(5), end = '\\n\\n')\n",
    "\n",
    "print(np.zeros((2, 3, 4)), end = '\\n\\n')\n",
    "\n",
    "print(np.ones([4, 3], dtype = 'int8'), end = '\\n\\n')\n",
    "\n",
    "print(np.full((3, 2), -1))"
   ]
  },
  {
   "cell_type": "code",
   "execution_count": 36,
   "id": "8b968253",
   "metadata": {},
   "outputs": [
    {
     "name": "stdout",
     "output_type": "stream",
     "text": [
      "[[1 2 3 4]]\n",
      "[[1 2 3 4]]\n",
      "[[1 2]\n",
      " [3 4]]\n",
      "[[5 4 3]]\n",
      "[[1 2 3]\n",
      " [4 5 6]]\n",
      "\n",
      "[[1 0 0]\n",
      " [0 2 0]\n",
      " [0 0 3]]\n",
      "[1 5 9]\n",
      "\n",
      "[[1 0 0 0 0 0 0 0 0]\n",
      " [0 2 0 0 0 0 0 0 0]\n",
      " [0 0 3 0 0 0 0 0 0]\n",
      " [0 0 0 4 0 0 0 0 0]\n",
      " [0 0 0 0 5 0 0 0 0]\n",
      " [0 0 0 0 0 6 0 0 0]\n",
      " [0 0 0 0 0 0 7 0 0]\n",
      " [0 0 0 0 0 0 0 8 0]\n",
      " [0 0 0 0 0 0 0 0 9]]\n",
      "\n",
      "[[1. 0. 0. 0.]\n",
      " [1. 1. 0. 0.]\n",
      " [1. 1. 1. 0.]\n",
      " [1. 1. 1. 1.]]\n",
      "[[1. 0.]\n",
      " [1. 1.]\n",
      " [1. 1.]\n",
      " [1. 1.]]\n",
      "[[1. 0. 0. 0.]\n",
      " [1. 1. 0. 0.]]\n",
      "\n",
      "[[1 0 0]\n",
      " [4 5 0]\n",
      " [7 8 9]]\n",
      "[[1 2 3]\n",
      " [0 5 6]\n",
      " [0 0 9]]\n",
      "[[[1 0 0]\n",
      "  [4 5 0]\n",
      "  [7 8 9]]]\n",
      "[[[  1   0   0]\n",
      "  [  4   5   0]\n",
      "  [  7   8   9]]\n",
      "\n",
      " [[ 10   0   0]\n",
      "  [ 40  50   0]\n",
      "  [ 70  80  90]]\n",
      "\n",
      " [[100   0   0]\n",
      "  [400 500   0]\n",
      "  [700 800 900]]]\n",
      "\n",
      "[[1 1 1]\n",
      " [4 2 1]\n",
      " [9 3 1]]\n"
     ]
    }
   ],
   "source": [
    "# np.mat(object, ...) - приводит входные данные object к матрице, если это возможно. Параметр object может быть строкой, списком или кортежем\n",
    "# np.diag(list, ...) - формирует диагональную матрицу на основе списка или массива. Возвращает копию массива\n",
    "# np.diagflat(list, ...) - формирует диагональную матрицу из списка list, который сначала сжимает до одной оси(преобразует в одномерный список или массив)\n",
    "# np.tri(N, M = None, ...) - создает треугольный массив N*M с единицами на главной диагонали и ниже ее\n",
    "# np.tril(list, ...) - преобразует двумерный список или массив list в треугольную матрицу с нулевыми элементами выше главной диагонали\n",
    "# np.triu(list, ...) - преобразует двумерный список или массив list B треугольную матрицу с нулевыми элементами ниже главной диагонали.\n",
    "# np.vander(list, N = None, ...) - создание матрицы Вандермонда из одномерного списка или массива list. Второй параметр N определяет ЧИСЛО столбцов (по умолчанию формируется квадратная матрица).\n",
    "\n",
    "print(np.mat([[1, 2, 3, 4]]))\n",
    "print(np.mat('1, 2, 3, 4'))\n",
    "print(np.mat('1 2; 3 4'))\n",
    "print(np.mat([5, 4, 3]))\n",
    "print(np.mat([(1, 2, 3), (4, 5, 6)]), end = '\\n\\n')\n",
    "\n",
    "print(np.diag([1, 2, 3]))\n",
    "print(np.diag([(1, 2, 3), (4, 5, 6), (7, 8, 9)]), end = '\\n\\n')\n",
    "\n",
    "print(np.diagflat([(1, 2, 3), (4, 5, 6), (7, 8, 9)]), end = '\\n\\n')\n",
    "\n",
    "print(np.tri(4))\n",
    "print(np.tri(4, 2))\n",
    "print(np.tri(2, 4), end = '\\n\\n')\n",
    "\n",
    "a = np.array([(1, 2, 3), (4, 5, 6), (7, 8, 9)])\n",
    "print(np.tril(a))\n",
    "print(np.triu(a))\n",
    "print(np.tril([[[1, 2, 3], [4, 5, 6], [7, 8, 9]]]))\n",
    "print(np.tril([[[1, 2, 3], [4, 5, 6], [7, 8, 9]], [[10, 20, 30], [40, 50, 60], [70, 80 ,90]], [[100, 200, 300], [400, 500, 600], [700, 800, 900]]]), end = '\\n\\n')\n",
    "\n",
    "print(np.vander([1, 2, 3]))"
   ]
  },
  {
   "cell_type": "code",
   "execution_count": 39,
   "id": "c7956b96",
   "metadata": {},
   "outputs": [
    {
     "name": "stdout",
     "output_type": "stream",
     "text": [
      "[0 1 2 3 4]\n",
      "[1 2 3 4]\n",
      "[1.  1.5 2.  2.5 3.  3.5 4.  4.5]\n",
      "[0.  0.1 0.2 0.3 0.4 0.5 0.6 0.7 0.8 0.9 1.  1.1 1.2 1.3 1.4 1.5 1.6 1.7\n",
      " 1.8 1.9 2.  2.1 2.2 2.3 2.4 2.5 2.6 2.7 2.8 2.9 3.  3.1]\n",
      "[ 1.          0.99500417  0.98006658  0.95533649  0.92106099  0.87758256\n",
      "  0.82533561  0.76484219  0.69670671  0.62160997  0.54030231  0.45359612\n",
      "  0.36235775  0.26749883  0.16996714  0.0707372  -0.02919952 -0.12884449\n",
      " -0.22720209 -0.32328957 -0.41614684 -0.5048461  -0.58850112 -0.66627602\n",
      " -0.73739372 -0.80114362 -0.85688875 -0.90407214 -0.94222234 -0.97095817\n",
      " -0.9899925  -0.99913515]\n",
      "\n",
      "[]\n",
      "[0.]\n",
      "[0.         3.14159265]\n",
      "[0.         1.57079633 3.14159265]\n",
      "\n",
      "[ 1.          3.16227766 10.        ]\n",
      "[ 1.          2.15443469  4.64158883 10.        ]\n",
      "\n",
      "[1. 2. 4.]\n",
      "[ 1.  2.  4.  8. 16.]\n"
     ]
    }
   ],
   "source": [
    "# np.arange(start = 0, stop, step) - возвращает одномерный массив с равномерно разнесенными числами указанного диапазона.\n",
    "# np.linspace(start, stop, ...) - Возвращает одномерный массив с равномерно разнесенными. числами. Используя ТОЛЬКО значения начала и конца интервала\n",
    "# np.logspace(start, stop, ...) - Возврашает одномерный массив с числами. равномерно распределенных по логарифмической шкале.\n",
    "# np.geomspace(start, stop, ...) - формирование чисел по геометрической прогрессии\n",
    "# np.meshgrid(x_1, ..., x_n, ...) - x_1..... х_n - одномерные последовательности или массивы. используемые Для формировання координатной сетки по каждой из осей.\n",
    "# np.mgrid[] - возвращает массив плотных координатных сеток\n",
    "# np.ogrid[] - возвращает открытую сетку значений\n",
    "\n",
    "print(np.arange(5))\n",
    "print(np.arange(1, 5))\n",
    "print(np.arange(1, 5, 0.5))\n",
    "print(np.arange(0, np.pi, 0.1))\n",
    "print(np.cos(np.arange(0, np.pi, 0.1)), end = '\\n\\n')\n",
    "\n",
    "print(np.linspace(0, np.pi, 0))\n",
    "print(np.linspace(0, np.pi, 1))\n",
    "print(np.linspace(0, np.pi, 2))\n",
    "print(np.linspace(0, np.pi, 3), end = '\\n\\n')\n",
    "\n",
    "print(np.logspace(0, 1, 3))\n",
    "print(np.logspace(0, 1, 4), end = '\\n\\n')\n",
    "\n",
    "print(np.geomspace(1, 4, 3))\n",
    "print(np.geomspace(1, 16, 5))"
   ]
  },
  {
   "cell_type": "code",
   "execution_count": 43,
   "id": "dbb3d848",
   "metadata": {},
   "outputs": [
    {
     "name": "stdout",
     "output_type": "stream",
     "text": [
      "[[1 2]\n",
      " [3 4]]\n",
      "[1 2]\n",
      "[[1 2]\n",
      " [3 4]]\n",
      "\n",
      "[[  0.   1.]\n",
      " [100. 101.]]\n",
      "[[  0.   1.]\n",
      " [100. 101.]]\n",
      "\n",
      "['h' 'e' 'l' 'l' 'o']\n",
      "[0 1 2 3]\n",
      "\n",
      "[1 2 3]\n",
      "[1 2 3]\n"
     ]
    }
   ],
   "source": [
    "# array(object, ...) - преобразует список или кортеж object в массив NumPy.\n",
    "# asanyarray(list, ...) - преобразует список list в массив атау, сохраняя тип подкласса.\n",
    "# ascontiguousarray(list, ...) - возвращает непрерывный массив в памяти, подобно как это организовано в языке С\n",
    "# asmatrix(list, ...) - преобразует входную последовательность list B матрицу NumPy (Tun matrix).\n",
    "# copy(list, ...) - возвращает копию массива list (если это обьект NumPy) или просто создает массив на основе списка языка Python.\n",
    "# frombuffer(buffer, ...) - преобразует данные из буфера в массив NumPy\n",
    "# fromfile(file, ...) - возвращает массив из данных текстового или бинарного файла file.\n",
    "# fromfunction(func, shape, ...) - создает массив размерностью shape с помощью функции func\n",
    "# fromiter(iter, ...) -  создает массив на основе итерируемого обьекта\n",
    "# fromstring(string, ...) - создает массив из данных строки\n",
    "# loadtxt(file, ...) - формирует массив из данных текстового файла\n",
    "\n",
    "a = np.array([(1, 2), (3, 4)])\n",
    "print(a)\n",
    "b = np.copy(a)\n",
    "print(b[0])\n",
    "print(a, end = '\\n\\n')\n",
    "\n",
    "def getRange(x, y):\n",
    "    return 100 * x + y\n",
    "print(np.fromfunction(getRange, (2, 2)))\n",
    "print(np.fromfunction(lambda x, y: x*100 + y, (2, 2)), end = '\\n\\n')\n",
    "\n",
    "print(np.fromiter('hello', dtype = 'U1'))\n",
    "def getRange(N):\n",
    "    for i in range(N):\n",
    "        yield i\n",
    "print(np.fromiter(getRange(4), dtype = 'int8'), end = '\\n\\n')\n",
    "\n",
    "print(np.fromstring('1 2 3', dtype = 'int16', sep = ' '))\n",
    "print(np.fromstring('1, 2, 3', dtype = 'int16', sep = ','))"
   ]
  },
  {
   "cell_type": "code",
   "execution_count": 48,
   "id": "a76c58a9",
   "metadata": {},
   "outputs": [
    {
     "name": "stdout",
     "output_type": "stream",
     "text": [
      "float64\n",
      "[-102 -103 -103 -103 -103 -103  -71   63 -102 -103 -103 -103 -103 -103\n",
      "  -55   63   51   51   51   51   51   51  -45   63 -102 -103 -103 -103\n",
      " -103 -103  -39   63    0    0    0    0    0    0  -32   63   51   51\n",
      "   51   51   51   51  -29   63  102  102  102  102  102  102  -26   63\n",
      " -102 -103 -103 -103 -103 -103  -23   63  -51  -52  -52  -52  -52  -52\n",
      "  -20   63] 72 int8\n",
      "\n",
      "[0.1 0.2 0.3 0.4 0.5 0.6 0.7 0.8 0.9]\n",
      "\n",
      "[-1.58818684e-23  1.44999993e+00 -1.58818684e-23  1.57499993e+00\n",
      "  4.17232506e-08  1.64999998e+00 -1.58818684e-23  1.69999993e+00\n",
      "  0.00000000e+00  1.75000000e+00  4.17232506e-08  1.77499998e+00\n",
      "  2.72008302e+23  1.79999995e+00 -1.58818684e-23  1.82499993e+00\n",
      " -1.07374184e+08  1.84999990e+00] 18 4\n",
      "\n",
      "8 72\n"
     ]
    }
   ],
   "source": [
    "# Свойства и представления массивов, создание их копий\n",
    "a = np.array([0.1, 0.2, 0.3, 0.4, 0.5, 0.6, 0.7, 0.8, 0.9])\n",
    "print(a.dtype)\n",
    "a.dtype = np.int8()\n",
    "print(a, a.size,  a.dtype, end = '\\n\\n')\n",
    "a.dtype = np.float64()\n",
    "print(a, end = '\\n\\n')\n",
    "a.dtype = 'float32'\n",
    "print(a, a.size, a.itemsize, end = '\\n\\n') # itemsize показывает, сколько байт занимает элемент массива в пямяти\n",
    "a.dtype = 'float64'\n",
    "print(a.itemsize, a.size * a.itemsize)"
   ]
  },
  {
   "cell_type": "code",
   "execution_count": 51,
   "id": "52dac9dd",
   "metadata": {},
   "outputs": [
    {
     "name": "stdout",
     "output_type": "stream",
     "text": [
      "3 (3, 4, 5)\n"
     ]
    }
   ],
   "source": [
    "b = np.ones((3, 4, 5))\n",
    "print(b.ndim, b.shape, end = '\\n\\n')\n",
    "b.shape = 60\n",
    "print(b, end = '\\n\\n')\n",
    "b.shape = 12, 5\n",
    "print(b)\n",
    "c = b.reshape(3, 2, 10)\n",
    "print(c)"
   ]
  },
  {
   "cell_type": "code",
   "execution_count": 73,
   "id": "5b0212e1",
   "metadata": {},
   "outputs": [
    {
     "name": "stdout",
     "output_type": "stream",
     "text": [
      "[0 1 2 3 4 5 6 7 8 9]\n",
      "\n",
      "[[0 1 2 3 4]\n",
      " [5 6 7 8 9]]\n",
      "\n",
      "[0 1 2 3 4 5 6 7 8 9]\n",
      "\n",
      "[[-1  1  2  3  4]\n",
      " [ 5  6  7  8  9]]\n"
     ]
    }
   ],
   "source": [
    "# Изменение формы массивов, добавление и удаление осей\n",
    "a = np.arange(10)\n",
    "print(a, end = '\\n\\n')\n",
    "a.shape = 2, 5\n",
    "print(a, end = '\\n\\n')\n",
    "b = a.reshape(10)\n",
    "print(b, end = '\\n\\n')\n",
    "b[0] = -1\n",
    "print(a)  # reshape создает новое представление уже существующего массива, а не новый массив"
   ]
  },
  {
   "cell_type": "code",
   "execution_count": 58,
   "id": "05113988",
   "metadata": {},
   "outputs": [
    {
     "name": "stdout",
     "output_type": "stream",
     "text": [
      "[[0 1]\n",
      " [2 3]\n",
      " [4 5]\n",
      " [6 7]\n",
      " [8 9]]\n",
      "[[0 1 2 3 4]\n",
      " [5 6 7 8 9]]\n"
     ]
    }
   ],
   "source": [
    "a = np.arange(10)\n",
    "print(np.reshape(a, (-1, 2)))  # если указываем в одном из параметров кортежа \n",
    "# при изменении массива отрицательное число, массив переструктурируется так, как будет возможно\n",
    "print(a.reshape(-1, 5))"
   ]
  },
  {
   "cell_type": "code",
   "execution_count": 75,
   "id": "d720a03b",
   "metadata": {},
   "outputs": [
    {
     "name": "stdout",
     "output_type": "stream",
     "text": [
      "[[0 1 2 3 4]\n",
      " [5 6 7 8 9]]\n",
      "\n",
      "[0 1 2 3 4 5 6 7 8 9]\n"
     ]
    }
   ],
   "source": [
    "a = np.arange(10).reshape(2, 5)\n",
    "print(a, end = '\\n\\n')\n",
    "print(a.ravel())  # .ravel() преобразует любой массив в вектор с размерностью 1\n",
    "a = np.arange(10).reshape(2, 5)\n",
    "a.shape = -1  # или можно сделать так"
   ]
  },
  {
   "cell_type": "code",
   "execution_count": 74,
   "id": "cf5afe41",
   "metadata": {},
   "outputs": [
    {
     "name": "stdout",
     "output_type": "stream",
     "text": [
      "[[0 1 2]\n",
      " [3 4 5]\n",
      " [6 7 8]]\n",
      "\n",
      "[[0 1 2 3 4]\n",
      " [5 6 7 8 0]\n",
      " [0 0 0 0 0]\n",
      " [0 0 0 0 0]]\n"
     ]
    }
   ],
   "source": [
    "a = np.arange(10)\n",
    "a.resize(3, 3, refcheck = False) # если пользуемся методом resize, его можно использовать с параметром refcheck = False, тогда resize точно сработает, хоть иногда и с потерей данных\n",
    "print(a, end = '\\n\\n')\n",
    "a.resize(4, 5, refcheck = False) # в случае если массив, который мы хотим получить методом resize больше изначального, недостающие элементы будут заполнены нулями\n",
    "print(a)"
   ]
  },
  {
   "cell_type": "code",
   "execution_count": 64,
   "id": "71656fed",
   "metadata": {},
   "outputs": [
    {
     "name": "stdout",
     "output_type": "stream",
     "text": [
      "[[ 1  2  3]\n",
      " [ 1  4  9]\n",
      " [ 1  8 27]]\n",
      "[[ 1  1  1]\n",
      " [ 2  4  8]\n",
      " [ 3  9 27]]\n",
      "[1 2 3 4 5 6 7 8 9]\n",
      "[1 2 3 4 5 6 7 8 9]\n",
      "[[1]\n",
      " [2]\n",
      " [3]\n",
      " [4]\n",
      " [5]\n",
      " [6]\n",
      " [7]\n",
      " [8]\n",
      " [9]]\n"
     ]
    }
   ],
   "source": [
    "a = np.array([(1, 2, 3), (1, 4, 9), (1, 8, 27)])\n",
    "print(a, end = '\\n\\n')\n",
    "print(a.T, end = '\\n\\n')\n",
    "x = np.arange(1, 10)\n",
    "print(x, end = '\\n\\n')\n",
    "print(x.T, end = '\\n\\n') # одномерные массивы - вектора - не могут быть транспонированы, они так и останутся строками, потому что чтобы сделать из массива (1, 9) массив (9, 1) нужно расширить размерность\n",
    "x.shape = 1, -1\n",
    "print(x.T)"
   ]
  },
  {
   "cell_type": "code",
   "execution_count": 8,
   "id": "45191b91",
   "metadata": {},
   "outputs": [
    {
     "name": "stdout",
     "output_type": "stream",
     "text": [
      "(8, 2, 2)\n",
      "\n",
      "(1, 8, 2, 2)\n",
      "\n",
      "-100\n",
      "\n",
      "(2, 8, 2, 2)\n",
      "\n",
      "[[[[-100    1]\n",
      "   [   2    3]]\n",
      "\n",
      "  [[   4    5]\n",
      "   [   6    7]]\n",
      "\n",
      "  [[   8    9]\n",
      "   [  10   11]]\n",
      "\n",
      "  [[  12   13]\n",
      "   [  14   15]]\n",
      "\n",
      "  [[  16   17]\n",
      "   [  18   19]]\n",
      "\n",
      "  [[  20   21]\n",
      "   [  22   23]]\n",
      "\n",
      "  [[  24   25]\n",
      "   [  26   27]]\n",
      "\n",
      "  [[  28   29]\n",
      "   [  30   31]]]\n",
      "\n",
      "\n",
      " [[[-100    1]\n",
      "   [   2    3]]\n",
      "\n",
      "  [[   4    5]\n",
      "   [   6    7]]\n",
      "\n",
      "  [[   8    9]\n",
      "   [  10   11]]\n",
      "\n",
      "  [[  12   13]\n",
      "   [  14   15]]\n",
      "\n",
      "  [[  16   17]\n",
      "   [  18   19]]\n",
      "\n",
      "  [[  20   21]\n",
      "   [  22   23]]\n",
      "\n",
      "  [[  24   25]\n",
      "   [  26   27]]\n",
      "\n",
      "  [[  28   29]\n",
      "   [  30   31]]]]\n",
      "\n",
      "(1, 8, 2, 2)\n",
      "\n",
      "(1, 8, 2, 2, 1)\n",
      "\n",
      "(8, 2, 2)\n",
      "\n",
      "(8, 2, 2, 1)\n"
     ]
    }
   ],
   "source": [
    "x_test = np.arange(32).reshape(8, 2, 2)\n",
    "print(x_test.shape, end = '\\n\\n')\n",
    "x_test4 = np.expand_dims(x_test, axis = 0)\n",
    "print(x_test4.shape, end = '\\n\\n')\n",
    "x_test4[0][0][0][0] = -100\n",
    "print(x_test[0][0][0], end = '\\n\\n')  # то есть функция expand_dims создает лишь новое представление массива, а не новый массив, о чем следует помнить\n",
    "a = np.append(x_test4, x_test4, axis = 0)\n",
    "print(a.shape, end = '\\n\\n')\n",
    "print(a, end = '\\n\\n')\n",
    "b = np.delete(a, 0, axis = 0)\n",
    "print(b.shape, end = '\\n\\n')\n",
    "b = np.expand_dims(x_test4, axis = -1)\n",
    "print(b.shape, end = '\\n\\n')\n",
    "c = np.squeeze(b)  # функция squeeze удаляет все оси, значения по которым равны 1\n",
    "print(c.shape, end = '\\n\\n')\n",
    "c = np.squeeze(b, axis = 0)\n",
    "print(c.shape)"
   ]
  },
  {
   "cell_type": "code",
   "execution_count": 9,
   "id": "859affed",
   "metadata": {},
   "outputs": [
    {
     "name": "stdout",
     "output_type": "stream",
     "text": [
      "(1, 9)\n",
      "\n",
      "(1, 9, 1)\n"
     ]
    }
   ],
   "source": [
    "a = np.arange(1, 10)\n",
    "b = a[np.newaxis, :]\n",
    "print(b.shape, end = '\\n\\n')\n",
    "c = a[np.newaxis, :, np.newaxis]\n",
    "print(c.shape)"
   ]
  },
  {
   "cell_type": "code",
   "execution_count": 10,
   "id": "56a73c65",
   "metadata": {},
   "outputs": [
    {
     "name": "stdout",
     "output_type": "stream",
     "text": [
      "[[1 2 5 6]\n",
      " [3 4 7 8]]\n",
      "\n",
      "[[5 6]\n",
      " [7 8]\n",
      " [1 2]\n",
      " [3 4]]\n",
      "\n",
      "[[5 6]\n",
      " [7 8]\n",
      " [1 2]\n",
      " [3 4]\n",
      " [1 2]\n",
      " [3 4]]\n"
     ]
    }
   ],
   "source": [
    "# Обьединение и разделение массивов\n",
    "a = np.array([(1, 2), (3, 4)])\n",
    "b = np.array([(5, 6), (7, 8)])\n",
    "print(np.hstack([a, b]), end = '\\n\\n')\n",
    "print(np.vstack([b, a]), end = '\\n\\n')\n",
    "print(np.vstack([b, a, a]))"
   ]
  },
  {
   "cell_type": "code",
   "execution_count": 13,
   "id": "8f3abfd5",
   "metadata": {},
   "outputs": [
    {
     "name": "stdout",
     "output_type": "stream",
     "text": [
      "(3, 6, 2)\n",
      "\n",
      "(6, 3, 2)\n",
      "\n"
     ]
    }
   ],
   "source": [
    "a = np.fromiter(range(18), dtype = 'int32')\n",
    "b = np.fromiter(range(18, 36), dtype = 'int32')\n",
    "a.resize(3, 3, 2)\n",
    "b.resize(3, 3, 2)\n",
    "c = np.hstack([a, b])\n",
    "print(c.shape, end = '\\n\\n')\n",
    "d = np.vstack([a, b])\n",
    "print(d.shape, end = '\\n\\n')"
   ]
  },
  {
   "cell_type": "code",
   "execution_count": 20,
   "id": "a0042108",
   "metadata": {},
   "outputs": [
    {
     "name": "stdout",
     "output_type": "stream",
     "text": [
      "[[1. 5.]\n",
      " [2. 6.]\n",
      " [3. 7.]\n",
      " [4. 8.]]\n",
      "\n",
      "[[1. 2. 3. 4.]\n",
      " [5. 6. 7. 8.]]\n"
     ]
    }
   ],
   "source": [
    "a = np.array([1., 2., 3., 4.])\n",
    "b = np.array([5., 6., 7., 8.])\n",
    "c = np.column_stack([a, b])\n",
    "print(c, end = '\\n\\n')\n",
    "d = np.row_stack([a, b])\n",
    "print(d)"
   ]
  },
  {
   "cell_type": "code",
   "execution_count": 27,
   "id": "b0acfc75",
   "metadata": {},
   "outputs": [
    {
     "name": "stdout",
     "output_type": "stream",
     "text": [
      "(6, 3, 2), (3, 6, 2), (3, 3, 4)\n"
     ]
    }
   ],
   "source": [
    "a = np.arange(1, 13)\n",
    "b = np.arange(13, 26)\n",
    "a.resize(3, 3, 2)\n",
    "b.resize(3, 3, 2)\n",
    "c0 = np.concatenate([a, b], axis = 0)\n",
    "c1 = np.concatenate([a, b], axis = 1)\n",
    "c2 = np.concatenate([a, b], axis = 2)\n",
    "print(f'{c0.shape}, {c1.shape}, {c2.shape}')"
   ]
  },
  {
   "cell_type": "code",
   "execution_count": 31,
   "id": "65e70530",
   "metadata": {},
   "outputs": [
    {
     "name": "stdout",
     "output_type": "stream",
     "text": [
      "[1 2 3 4 5]\n",
      "\n",
      "[  1   2   3   4   5   6   7   8  90 100]\n",
      "\n",
      "[1 2 3 4 5 6]\n",
      "\n",
      "[[1 2 3]\n",
      " [4 5 6]\n",
      " [7 8 9]]\n",
      "\n",
      "[[1]\n",
      " [2]\n",
      " [3]\n",
      " [4]]\n",
      "\n",
      "[1 2 3 4]\n",
      "\n",
      "[[1 4]\n",
      " [2 5]\n",
      " [3 6]]\n",
      "\n",
      "[[1 2 3 7]\n",
      " [4 5 6 8]]\n"
     ]
    }
   ],
   "source": [
    "print(np.r_[ [1, 2, 3], 4, 5], end = '\\n\\n')\n",
    "print(np.r_[ 1:9, 90, 100], end = '\\n\\n')\n",
    "print(np.r_[ np.array([1, 2, 3]), np.array([4, 5, 6])], end = '\\n\\n')\n",
    "print(np.r_[ [(1, 2, 3), (4, 5, 6)], [(7, 8, 9)]], end = '\\n\\n')\n",
    "\n",
    "print(np.c_[1:5], end = '\\n\\n')\n",
    "print(np.r_[1:5], end = '\\n\\n')\n",
    "print(np.c_[ [1, 2, 3], [4, 5, 6]], end = '\\n\\n')\n",
    "print(np.c_[ [(1, 2, 3), (4, 5, 6)], [[7], [8]]])"
   ]
  },
  {
   "cell_type": "code",
   "execution_count": 39,
   "id": "8180da08",
   "metadata": {},
   "outputs": [
    {
     "name": "stdout",
     "output_type": "stream",
     "text": [
      "[array([0, 1, 2, 3, 4]), array([5, 6, 7, 8, 9])]\n",
      "\n",
      "[array([0, 1]), array([2, 3]), array([4, 5]), array([6, 7]), array([8, 9])]\n",
      "\n",
      "[array([[0, 1, 2, 3, 4, 5]]), array([[6, 7, 8, 9, 0, 0]])]\n",
      "\n",
      "[array([[0],\n",
      "       [6]]), array([[1],\n",
      "       [7]]), array([[2],\n",
      "       [8]]), array([[3],\n",
      "       [9]]), array([[4],\n",
      "       [0]]), array([[5],\n",
      "       [0]])]\n"
     ]
    }
   ],
   "source": [
    "a = np.arange(10)\n",
    "print(np.hsplit(a, 2), end = '\\n\\n')\n",
    "print(np.hsplit(a, 5), end = '\\n\\n')\n",
    "a.resize(2, 6)\n",
    "print(np.vsplit(a, 2), end = '\\n\\n')\n",
    "print(np.hsplit(a, 6))"
   ]
  },
  {
   "cell_type": "code",
   "execution_count": 40,
   "id": "08ccc6fe",
   "metadata": {},
   "outputs": [
    {
     "name": "stdout",
     "output_type": "stream",
     "text": [
      "[array([[[ 0],\n",
      "        [ 2],\n",
      "        [ 4]],\n",
      "\n",
      "       [[ 6],\n",
      "        [ 8],\n",
      "        [10]],\n",
      "\n",
      "       [[12],\n",
      "        [14],\n",
      "        [16]]]), array([[[ 1],\n",
      "        [ 3],\n",
      "        [ 5]],\n",
      "\n",
      "       [[ 7],\n",
      "        [ 9],\n",
      "        [11]],\n",
      "\n",
      "       [[13],\n",
      "        [15],\n",
      "        [17]]])]\n",
      "\n",
      "[array([[[ 0,  1],\n",
      "        [ 2,  3]],\n",
      "\n",
      "       [[ 6,  7],\n",
      "        [ 8,  9]],\n",
      "\n",
      "       [[12, 13],\n",
      "        [14, 15]]]), array([[[ 4,  5]],\n",
      "\n",
      "       [[10, 11]],\n",
      "\n",
      "       [[16, 17]]])]\n",
      "\n",
      "[array([[[ 0,  1],\n",
      "        [ 2,  3],\n",
      "        [ 4,  5]],\n",
      "\n",
      "       [[ 6,  7],\n",
      "        [ 8,  9],\n",
      "        [10, 11]]]), array([[[12, 13],\n",
      "        [14, 15],\n",
      "        [16, 17]]])]\n"
     ]
    }
   ],
   "source": [
    "a = np.arange(18)\n",
    "a.resize(3, 3, 2)\n",
    "print(np.array_split(a, 2, axis = 2), end = '\\n\\n')\n",
    "print(np.array_split(a, 2, axis = 1), end = '\\n\\n')\n",
    "print(np.array_split(a, 2, axis = 0))"
   ]
  },
  {
   "cell_type": "code",
   "execution_count": 44,
   "id": "2bc20779",
   "metadata": {},
   "outputs": [
    {
     "name": "stdout",
     "output_type": "stream",
     "text": [
      "2\n",
      "\n",
      "[100   1   2   3   4   5   6   7   8   9  10  11]\n",
      "\n",
      "[2 3]\n",
      "\n",
      "[-1 -2 -3 -4  4  5  6  7  8  9 10 11]\n",
      "\n",
      "[-1 -2 -3 -4 10  5 20  7 30  9 40 11]\n",
      "\n",
      "-1 -2 -3 -4 10 5 20 7 30 9 40 11 "
     ]
    }
   ],
   "source": [
    "# Индексация, срезы, итерирование массивов\n",
    "a = np.arange(12)\n",
    "print(a[2], end = '\\n\\n')\n",
    "a[0] = 100\n",
    "print(a, end = '\\n\\n')\n",
    "b = a[2:4]\n",
    "print(b, end = '\\n\\n')\n",
    "a[:4] = [-1, -2, -3, -4]\n",
    "print(a, end = '\\n\\n')\n",
    "a[4::2] = np.array([10, 20, 30, 40])\n",
    "print(a, end = '\\n\\n')\n",
    "for x in a:\n",
    "    print(x, end = ' ')"
   ]
  },
  {
   "cell_type": "code",
   "execution_count": 50,
   "id": "a2979c8e",
   "metadata": {},
   "outputs": [
    {
     "name": "stdout",
     "output_type": "stream",
     "text": [
      "20 300 [1 2 3] [10 20 30] [1 2 3] [  2  20 200]\n",
      "\n",
      "1 2 3 \n",
      "10 20 30 \n",
      "100 200 300 \n",
      "\n",
      "1 2 3 10 20 30 100 200 300 "
     ]
    }
   ],
   "source": [
    "x = np.array([(1, 2, 3), (10, 20, 30), (100, 200, 300)])\n",
    "print(x[1, 1], x[-1, -1], x[0], x[1], x[0, :], x[:, 1], end = '\\n\\n')\n",
    "for row in x:\n",
    "    for val in row:\n",
    "        print(val, end = ' ')\n",
    "    print()\n",
    "print()\n",
    "    \n",
    "for val in x.flat:\n",
    "    print(val, end = ' ')"
   ]
  },
  {
   "cell_type": "code",
   "execution_count": 53,
   "id": "c97c0038",
   "metadata": {},
   "outputs": [
    {
     "name": "stdout",
     "output_type": "stream",
     "text": [
      "47\n",
      "\n",
      "[[[10 11 12]\n",
      "  [13 14 15]\n",
      "  [16 17 18]]\n",
      "\n",
      " [[37 38 39]\n",
      "  [40 41 42]\n",
      "  [43 44 45]]\n",
      "\n",
      " [[64 65 66]\n",
      "  [67 68 69]\n",
      "  [70 71 72]]]\n",
      "\n",
      "[[1 2 3]\n",
      " [4 5 6]\n",
      " [7 8 9]]\n",
      "\n",
      "[[ 5 14]\n",
      " [32 41]]\n",
      "\n",
      "[[ 5 14 23]\n",
      " [32 41 50]\n",
      " [59 68 77]]\n"
     ]
    }
   ],
   "source": [
    "a = np.arange(1, 82).reshape(3, 3, 3, 3)\n",
    "print(a[1, 2, 0, 1], end = '\\n\\n')\n",
    "print(a[:, 1, :, :], end = '\\n\\n')\n",
    "print(a[0, 0], end = '\\n\\n') # = print(a[0, 0, :, :])\n",
    "print(a[0:2, 0:2, 1, 1], end = '\\n\\n')\n",
    "print(a[..., 1, 1])"
   ]
  },
  {
   "cell_type": "code",
   "execution_count": 56,
   "id": "1c89ba7b",
   "metadata": {},
   "outputs": [
    {
     "name": "stdout",
     "output_type": "stream",
     "text": [
      "[1 2 3 4 5 6 7 8]\n",
      "\n",
      "[1]\n",
      "\n",
      "[100]\n",
      "\n",
      "[1 2 8 6]\n",
      "\n",
      "[1 1 2 2 2 3 4 5 6 7 8]\n",
      "\n",
      "[10 20  3  4  5 40  7 30]\n"
     ]
    }
   ],
   "source": [
    "a = np.arange(1, 9)\n",
    "print(a, end = '\\n\\n')\n",
    "b = a[[0]]\n",
    "print(b, end = '\\n\\n')\n",
    "b[0] = 100\n",
    "print(b, end = '\\n\\n')\n",
    "print(a[[0, 1, 7, 5]], end = '\\n\\n')\n",
    "print(a[[0, 0, 1, 1, 1, 2, 3, 4, 5, 6, 7]], end = '\\n\\n')\n",
    "a[[0, 1, 7, 5]] = [10, 20, 30, 40]\n",
    "print(a)"
   ]
  },
  {
   "cell_type": "code",
   "execution_count": 58,
   "id": "f0b8cfbd",
   "metadata": {},
   "outputs": [
    {
     "name": "stdout",
     "output_type": "stream",
     "text": [
      "[10 10 20 20 20  3]\n",
      "\n",
      "[10 10 20 20 20  3]\n",
      "\n",
      "[10 20 40]\n",
      "\n",
      "[10 20  3  4  5 40  7 30]\n",
      "\n",
      "[10 20 40  7 30]\n",
      "\n",
      "[10 20 40  7 30]\n"
     ]
    }
   ],
   "source": [
    "index = [0, 0, 1, 1, 1, 2]\n",
    "print(a[index], end = '\\n\\n')\n",
    "index = np.array(index)\n",
    "print(a[index], end = '\\n\\n')\n",
    "bIndex = [True, True, False, False, False, True, False, False]\n",
    "print(a[bIndex], end = '\\n\\n')\n",
    "i = a > 5\n",
    "print(a, end = '\\n\\n')\n",
    "print(a[i], end = '\\n\\n')\n",
    "print(a[a > 5])"
   ]
  },
  {
   "cell_type": "code",
   "execution_count": 63,
   "id": "305828d7",
   "metadata": {},
   "outputs": [
    {
     "name": "stdout",
     "output_type": "stream",
     "text": [
      "[[0 1]\n",
      " [2 3]]\n",
      "\n",
      "[[1 2]\n",
      " [3 4]]\n",
      "\n",
      "[[ 9 10 11 12]\n",
      " [ 5  6  7  8]\n",
      " [ 1  2  3  4]]\n",
      "\n",
      "[[[ 5  6  7  8]\n",
      "  [ 1  2  3  4]]\n",
      "\n",
      " [[ 9 10 11 12]\n",
      "  [ 5  6  7  8]]]\n",
      "\n",
      "[2 7]\n",
      "\n",
      "[[ 2  3]\n",
      " [ 6  7]\n",
      " [10 11]]\n",
      "\n",
      "[2 6]\n"
     ]
    }
   ],
   "source": [
    "a = np.arange(1, 9)\n",
    "i = np.array([[0, 1], [2, 3]])\n",
    "print(i, end = '\\n\\n')\n",
    "print(a[i], end = '\\n\\n')\n",
    "a= np.arange(1, 13).reshape(3, 4)\n",
    "indx = [2, 1, 0]\n",
    "print(a[indx], end = '\\n\\n')\n",
    "indx = np.array([[1, 0], [2, 1]])\n",
    "print(a[indx], end = '\\n\\n')\n",
    "i0 = [0, 1]\n",
    "i1 = [1, 2]\n",
    "print(a[i0, i1], end = '\\n\\n')\n",
    "print(a[:, i1], end = '\\n\\n')\n",
    "print(a[i0, 1])"
   ]
  },
  {
   "cell_type": "code",
   "execution_count": 64,
   "id": "6d34fb7f",
   "metadata": {},
   "outputs": [
    {
     "name": "stdout",
     "output_type": "stream",
     "text": [
      "[-1  1  2  3 -2  5 -3]\n",
      "\n",
      "[  3 100   2   3  -2   5  -3]\n",
      "\n",
      "[  6 100   2   3  -2   5  -3]\n",
      "\n",
      "[  7 101   3   3  -2   5  -3]\n"
     ]
    }
   ],
   "source": [
    "a = np.arange(7)\n",
    "a[[0, 4, 6]] = [-1, -2, -3]\n",
    "print(a, end = '\\n\\n')\n",
    "a[[0, 0, 0, 1]] = [1, 2, 3, 100]\n",
    "print(a, end = '\\n\\n')\n",
    "a[[0, 0, 0]] = a[[0, 0, 0]] + 3\n",
    "print(a, end = '\\n\\n')  # эквивалентно a[0] = a[0] + 3\n",
    "a[[0, 0, 1, 2]] += 1  # эквивалентно a[[0, 1, 2]] += 1\n",
    "print(a)"
   ]
  },
  {
   "cell_type": "code",
   "execution_count": 67,
   "id": "6e82880b",
   "metadata": {},
   "outputs": [
    {
     "name": "stdout",
     "output_type": "stream",
     "text": [
      "[1, 2, 3, 1, 2, 3]\n",
      "[2 4 6]\n",
      "\n",
      "[-1 -2 -3]\n",
      "\n",
      "[-2 -1  0]\n",
      "\n",
      "[ 1  8 27]\n",
      "\n",
      "[4 6 8]\n",
      "\n",
      "[0.33333333 0.5        0.6       ]\n",
      "\n",
      "[0 0 2]\n"
     ]
    }
   ],
   "source": [
    "# Базовые математические оперции над массивами\n",
    "lst = [1, 2, 3]\n",
    "a = np.array([1, 2, 3])\n",
    "print(lst * 2)\n",
    "print(a * 2, end = '\\n\\n')\n",
    "print(-a, end = '\\n\\n')\n",
    "print(a - 3, end = '\\n\\n')\n",
    "print(a ** 3, end = '\\n\\n')\n",
    "b = np.array([3, 4, 5])\n",
    "print(a + b, end = '\\n\\n')\n",
    "print(a / b, end = '\\n\\n')\n",
    "print(b % a)"
   ]
  },
  {
   "cell_type": "code",
   "execution_count": 71,
   "id": "4fb745bb",
   "metadata": {},
   "outputs": [
    {
     "name": "stdout",
     "output_type": "stream",
     "text": [
      "[[[ 0.  1.]\n",
      "  [ 2.  3.]\n",
      "  [ 4.  5.]]\n",
      "\n",
      " [[ 6.  7.]\n",
      "  [ 8.  9.]\n",
      "  [10. 11.]]\n",
      "\n",
      " [[12. 13.]\n",
      "  [14. 15.]\n",
      "  [16. 17.]]]\n",
      "\n",
      "[[[ 10  20]\n",
      "  [ 30  40]\n",
      "  [ 50  60]]\n",
      "\n",
      " [[ 70  80]\n",
      "  [ 90 100]\n",
      "  [110 120]]\n",
      "\n",
      " [[130 140]\n",
      "  [150 160]\n",
      "  [170 180]]]\n",
      "\n",
      "[[[ 1.  2.]\n",
      "  [ 3.  4.]\n",
      "  [ 5.  6.]]\n",
      "\n",
      " [[ 7.  8.]\n",
      "  [ 9. 10.]\n",
      "  [11. 12.]]\n",
      "\n",
      " [[13. 14.]\n",
      "  [15. 16.]\n",
      "  [17. 18.]]]\n"
     ]
    }
   ],
   "source": [
    "a = np.arange(1, 19)\n",
    "a.resize(3, 3, 2)\n",
    "b = np.ones((3, 2))\n",
    "print(a - b, end = '\\n\\n')\n",
    "print(a * 10, end = '\\n\\n')\n",
    "print(a // b)"
   ]
  },
  {
   "cell_type": "code",
   "execution_count": 75,
   "id": "c04a2dbb",
   "metadata": {},
   "outputs": [
    {
     "name": "stdout",
     "output_type": "stream",
     "text": [
      "[ 6  7 11 13]\n",
      "\n",
      "[ 36  49 121 169]\n",
      "\n",
      "[ 35  48 120 168]\n"
     ]
    }
   ],
   "source": [
    "a = np.array([1, 2, 6, 8])\n",
    "a += 5\n",
    "print(a, end = '\\n\\n')\n",
    "a **= 2\n",
    "print(a, end = '\\n\\n')\n",
    "b = np.ones(4)\n",
    "a -= 1\n",
    "print(a)"
   ]
  },
  {
   "cell_type": "code",
   "execution_count": 78,
   "id": "218bcaf2",
   "metadata": {},
   "outputs": [
    {
     "name": "stdout",
     "output_type": "stream",
     "text": [
      "[10 20 30]\n",
      "\n",
      "[ True  True  True False False False]\n",
      "\n",
      "[False False False  True  True  True]\n",
      "\n",
      "[False False False False False False]\n",
      "\n",
      "[ True  True  True False False False]\n",
      "\n",
      "False \n",
      "\n",
      "\n",
      "True\n",
      "\n",
      "False\n",
      "\n",
      "False\n",
      "\n",
      "True\n"
     ]
    }
   ],
   "source": [
    "# Булевы операции и функции, значения inf и nan\n",
    "a = np.array([1, 2, 3, 10, 20, 30])\n",
    "print(a[a > 5], end = '\\n\\n')\n",
    "b = np.array([1, 2, 3, 4, 5 ,6])\n",
    "print(a == b, end = '\\n\\n')\n",
    "print(np.greater(a, b), end = '\\n\\n')\n",
    "print(np.less(a, b), end = '\\n\\n')\n",
    "print(np.equal(a, b), end = '\\n\\n')\n",
    "print(np.array_equal(a, b), '\\n\\n')\n",
    "print(np.any(a > 5), end = '\\n\\n')\n",
    "print(np.any(a == 5), end = '\\n\\n')\n",
    "print(np.all(a > 5), end = '\\n\\n')\n",
    "print(np.all(a > 0))"
   ]
  },
  {
   "cell_type": "code",
   "execution_count": 80,
   "id": "5fb2a5be",
   "metadata": {},
   "outputs": [
    {
     "name": "stdout",
     "output_type": "stream",
     "text": [
      "[inf inf inf inf inf inf inf inf]\n",
      "\n",
      "[ 0.  0. nan]\n",
      "\n",
      "nan\n",
      "\n",
      "[False False False  True  True]\n",
      "\n",
      "[False False  True False False]\n",
      "\n",
      "[  1.   2.  nan  inf -inf]\n",
      "\n",
      "[ 1.  2. nan]\n"
     ]
    },
    {
     "name": "stderr",
     "output_type": "stream",
     "text": [
      "/var/folders/l9/88y_46d53y3cy1jh1h6qdg0c0000gn/T/ipykernel_70988/2183991894.py:2: RuntimeWarning: divide by zero encountered in divide\n",
      "  print(a / 0, end = '\\n\\n')\n",
      "/var/folders/l9/88y_46d53y3cy1jh1h6qdg0c0000gn/T/ipykernel_70988/2183991894.py:4: RuntimeWarning: invalid value encountered in multiply\n",
      "  print(b * 0, end = '\\n\\n')\n",
      "/var/folders/l9/88y_46d53y3cy1jh1h6qdg0c0000gn/T/ipykernel_70988/2183991894.py:5: RuntimeWarning: invalid value encountered in multiply\n",
      "  c = b * 0\n"
     ]
    }
   ],
   "source": [
    "a = np.arange(1, 9)\n",
    "print(a / 0, end = '\\n\\n')\n",
    "b = np.array([1, 2, np.inf])\n",
    "print(b * 0, end = '\\n\\n')\n",
    "c = b * 0\n",
    "print(c.sum(), end = '\\n\\n')\n",
    "b = np.array([1, 2, np.nan, np.inf, -np.inf])\n",
    "print(np.isinf(b), end = '\\n\\n')\n",
    "print(np.isnan(b), end = '\\n\\n')\n",
    "indx = np.isinf(b)\n",
    "print(b, end = '\\n\\n')\n",
    "print(b[~indx], end = '\\n\\n')  # ~ инвертирует значения массива indx, а затем, проведя индексацию по массиву, мы откидываем значения равные inf\n",
    "print(np.isfinite(b), end = '\\n\\n')\n",
    "a = np.array([1 + 2j, 3 - 4j, 5])\n",
    "print(np.iscomplex(a), end = '\\n\\n')\n",
    "print(np.isreal(a))"
   ]
  },
  {
   "cell_type": "code",
   "execution_count": 81,
   "id": "a06a83bf",
   "metadata": {},
   "outputs": [
    {
     "name": "stdout",
     "output_type": "stream",
     "text": [
      "[ True False False False]\n",
      "\n",
      "[ True  True  True False]\n",
      "\n",
      "[False  True False  True]\n",
      "\n",
      "[ True  True  True  True]\n",
      "\n",
      "[ True False False False]\n"
     ]
    }
   ],
   "source": [
    "X = np.array([True, False, True, False])\n",
    "Y = np.array([True, True, False, False])\n",
    "print(np.logical_and(X, Y), end = '\\n\\n')\n",
    "print(np.logical_or(X, Y), end = '\\n\\n')\n",
    "print(np.logical_not(X, Y), end = '\\n\\n')\n",
    "print(np.logical_xor(X, Y), end = '\\n\\n')\n",
    "\n",
    "a = np.array([1, 0, 2, 0]) \n",
    "b = np.array([5, 4, 0, 0])\n",
    "print(np.logical_and(a, b))"
   ]
  },
  {
   "cell_type": "code",
   "execution_count": 84,
   "id": "9c1b0e44",
   "metadata": {},
   "outputs": [
    {
     "name": "stdout",
     "output_type": "stream",
     "text": [
      "66 11.0 30 1\n",
      "\n",
      "[24 42] [ 3 13 50] [20 30] [ 2 10 30]\n",
      "\n",
      "[ 1  1  5 44 32  2]\n",
      "\n",
      "10.5\n",
      "\n",
      "[10.5  2.   5. ]\n",
      "\n",
      "32 -44\n",
      "\n",
      "1.0 0.0\n",
      "\n",
      "4 3\n",
      "\n",
      "[-1 32  5] [ -1 -44]\n"
     ]
    }
   ],
   "source": [
    "# Базовые математические функции\n",
    "a = np.array([1, 2, 3, 10, 20, 30])\n",
    "print(a.sum(), a.mean(), a.max(), a.min(), end = '\\n\\n') # mean - среднее арифметическое\n",
    "a.resize(3, 2)\n",
    "print(a.sum(axis = 0), a.sum(axis = 1), a.max(axis = 0), a.max(axis = 1), end = '\\n\\n')\n",
    "a = np.array([-1, 1, 5, -44, 32, 2])\n",
    "print(np.abs(a), end = '\\n\\n')\n",
    "print(np.abs(-10.5), end = '\\n\\n')\n",
    "print(np.abs([-10.5, -2, 5]), end = '\\n\\n')\n",
    "print(np.amax(a), np.amin(a), end = '\\n\\n')\n",
    "print(np.round(0.7), np.round(0.5), end = '\\n\\n')\n",
    "print(np.argmax(a), np.argmin(a), end = '\\n\\n')\n",
    "a.resize(2, 3)\n",
    "print(np.amax(a, axis = 0), np.amin(a, axis = 1))"
   ]
  },
  {
   "cell_type": "code",
   "execution_count": 85,
   "id": "eb9e016e",
   "metadata": {},
   "outputs": [
    {
     "name": "stdout",
     "output_type": "stream",
     "text": [
      "[0.3832213  0.68506409 0.50342687 0.32388853 0.98022917 0.5375729\n",
      " 0.96457832 0.18684731 0.45318891 0.67003954]\n",
      "\n",
      "[[8 5 7 5 5]\n",
      " [8 5 7 5 6]]\n",
      "\n",
      "[[-0.33816105  0.59055621  0.52196544]\n",
      " [-1.01959765 -1.02235982  2.04899632]]\n",
      "\n",
      "[1.17682234 0.61447629 0.13639783]\n",
      "\n",
      "[[1.40458521e-05 2.96099266e-03 9.99729672e-01]\n",
      " [6.68680654e-01 2.34831692e-01 5.92384998e-13]\n",
      " [1.78694035e-04 3.98227624e-08 8.99575550e-01]]\n",
      "\n",
      "[2 0 0 6 2 4 9 3 4 2]\n",
      "\n",
      "[2 0 0 6 2 4 9 3 4 2]\n"
     ]
    }
   ],
   "source": [
    "a = np.random.rand(10) # генерация чисел с равномерным законом распределения\n",
    "print(a, end = '\\n\\n')\n",
    "a = np.random.randint(5, 10, size = (2, 5)) # генерация целых чисел с равномерным законом распределения\n",
    "print(a, end = '\\n\\n')\n",
    "a = np.random.randn(2, 3) # генерация нормальных случайных значений\n",
    "print(a, end = '\\n\\n')\n",
    "a = np.random.pareto(2.0, size = 3)\n",
    "print(a, end = '\\n\\n')\n",
    "a = np.random.beta(0.1, 0.3, size = (3, 3))\n",
    "print(a, end = '\\n\\n')\n",
    "np.random.seed(13)\n",
    "print(np.random.randint(10, size = 10), end = '\\n\\n')\n",
    "np.random.seed(13)\n",
    "print(np.random.randint(10, size = 10))"
   ]
  },
  {
   "cell_type": "code",
   "execution_count": 4,
   "id": "5277e9bd",
   "metadata": {},
   "outputs": [
    {
     "name": "stdout",
     "output_type": "stream",
     "text": [
      "[4 3 6 7 0 1 8 2 9 5]\n",
      "\n",
      "[[4 5 6]\n",
      " [1 2 3]\n",
      " [7 8 9]]\n",
      "\n",
      "[2 0 6 5 1 8 3 7 4 9]\n",
      "\n"
     ]
    }
   ],
   "source": [
    "a = np.arange(10)\n",
    "np.random.shuffle(a) # элементы массива случайным образом перетасовываются, но только по первой оси\n",
    "print(a, end = '\\n\\n')\n",
    "a = np.arange(1, 10).reshape(3, 3)\n",
    "np.random.shuffle(a)\n",
    "print(a, end = '\\n\\n')\n",
    "print(np.random.permutation(10), end = '\\n\\n')"
   ]
  },
  {
   "cell_type": "code",
   "execution_count": 5,
   "id": "97606754",
   "metadata": {},
   "outputs": [
    {
     "name": "stdout",
     "output_type": "stream",
     "text": [
      "9.0\n",
      "\n",
      "57.29\n",
      "\n",
      "7.569015788066504\n",
      "\n",
      "[[ 1  4  3  7 10  8 14 21 20 23]\n",
      " [ 4  1  6  9 13 11 16 19 15 22]]\n",
      "\n",
      "[[1.         0.93158099]\n",
      " [0.93158099 1.        ]]\n",
      "[[63.65555556 49.82222222]\n",
      " [49.82222222 44.93333333]]\n",
      "\n",
      "[1736]\n"
     ]
    }
   ],
   "source": [
    "x = np.array([1, 4, 3, 7, 10, 8, 14, 21, 20, 23])\n",
    "y = np.array([4, 1, 6, 9, 13, 11, 16, 19, 15, 22])\n",
    "print(np.median(x), end = '\\n\\n') # вычисление медианы величин x\n",
    "print(np.var(x), end = '\\n\\n') # дисперсия величин x\n",
    "print(np.std(x), end = '\\n\\n') # среднеквадратическое отклонение величин x\n",
    "XY = np.vstack([x, y]) \n",
    "print(XY, end = '\\n\\n') \n",
    "print(np.corrcoef(XY)) # линейный коэффицент корреляции Пирсона\n",
    "print(np.cov(XY), end = '\\n\\n') # вычисление ковариационной матрицы\n",
    "print(np.correlate(x, y)) # вычисление кросс-корреляции"
   ]
  },
  {
   "cell_type": "code",
   "execution_count": 10,
   "id": "3fae4c70",
   "metadata": {},
   "outputs": [
    {
     "name": "stdout",
     "output_type": "stream",
     "text": [
      "[[ 84  90  96]\n",
      " [201 216 231]\n",
      " [318 342 366]]\n",
      "\n",
      "[[138 171 204]\n",
      " [174 216 258]\n",
      " [210 261 312]]\n",
      "\n",
      "[[ 84  90  96]\n",
      " [201 216 231]\n",
      " [318 342 366]]\n",
      "\n",
      "45.0\n",
      "\n",
      "[[1. 1. 1. 1. 1. 1. 1. 1. 1.]\n",
      " [2. 2. 2. 2. 2. 2. 2. 2. 2.]\n",
      " [3. 3. 3. 3. 3. 3. 3. 3. 3.]\n",
      " [4. 4. 4. 4. 4. 4. 4. 4. 4.]\n",
      " [5. 5. 5. 5. 5. 5. 5. 5. 5.]\n",
      " [6. 6. 6. 6. 6. 6. 6. 6. 6.]\n",
      " [7. 7. 7. 7. 7. 7. 7. 7. 7.]\n",
      " [8. 8. 8. 8. 8. 8. 8. 8. 8.]\n",
      " [9. 9. 9. 9. 9. 9. 9. 9. 9.]]\n",
      "\n",
      "45.0\n",
      "\n",
      "[[ 6.  6.  6.]\n",
      " [15. 15. 15.]\n",
      " [24. 24. 24.]]\n",
      "\n",
      "[40 46]\n",
      "\n",
      "[14 20 26]\n",
      "\n",
      "[14 20 26]\n"
     ]
    }
   ],
   "source": [
    "# Произведение матриц и векторов, элементы линейной алгебры\n",
    "a = np.arange(1, 10).reshape(3, 3)\n",
    "b = np.arange(10, 19).reshape(3, 3)\n",
    "print(np.dot(a, b), end= '\\n\\n')  # матричное умножение\n",
    "print(np.dot(b, a), end = '\\n\\n')\n",
    "print(np.matmul(a, b), end = '\\n\\n') # тоже матричное умножение, лучше использовать его\n",
    "a = np.arange(1, 10)\n",
    "b = np.ones(9)\n",
    "print(np.inner(a, b), end = '\\n\\n') # внутреннее умножение векторов\n",
    "print(np.outer(a, b), end = '\\n\\n') # внешнее умножение векторов\n",
    "print(a @ b, end = '\\n\\n') # внутреннее умножение векторов\n",
    "a.resize(3, 3)\n",
    "b.resize(3, 3)\n",
    "print(a @ b, end = '\\n\\n') # матричное умножение\n",
    "a = np.array([1, 2, 3])\n",
    "b = np.arange(4, 10).reshape(3, 2)\n",
    "print(np.dot(a, b), end = '\\n\\n') # умножение вектора на матрицу\n",
    "a = np.array([1, 2])\n",
    "print(np.dot(b, a), end = '\\n\\n') # умножение матрицы на вектор\n",
    "a = a.T\n",
    "print(b @ a) # умножение матрицы на вектор"
   ]
  },
  {
   "cell_type": "code",
   "execution_count": 11,
   "id": "0ba7687a",
   "metadata": {},
   "outputs": [
    {
     "name": "stdout",
     "output_type": "stream",
     "text": [
      "[-5.         10.         -1.66666667]\n",
      "\n",
      "[[ 3.         -2.5         0.5       ]\n",
      " [-1.5         2.         -0.5       ]\n",
      " [ 0.33333333 -0.5         0.16666667]]\n",
      "\n",
      "[[ 1.00000000e+00  1.11022302e-16  5.55111512e-17]\n",
      " [-5.55111512e-17  1.00000000e+00  1.66533454e-16]\n",
      " [ 7.21644966e-16  5.55111512e-16  1.00000000e+00]]\n",
      "\n",
      "[-5.         10.         -1.66666667]\n"
     ]
    }
   ],
   "source": [
    "a = np.array([(1, 2, 3), (1, 4, 9), (1, 8, 27)])\n",
    "y = np.array([10, 20, 30])\n",
    "print(np.linalg.solve(a, y), end = '\\n\\n')\n",
    "invA = np.linalg.inv(a)\n",
    "print(invA, end = '\\n\\n')\n",
    "print(a @ invA, end = '\\n\\n')\n",
    "print(invA @ y)"
   ]
  },
  {
   "cell_type": "code",
   "execution_count": null,
   "id": "9a0f652c",
   "metadata": {},
   "outputs": [],
   "source": [
    "# np.linalg.cholesky() - Разложение Холецкого\n",
    "# np.linalg.qr() - QR-разложение матрицы\n",
    "# np.linalg.svd() - Сингулярное(SVD) разложение матрицы\n",
    "# np.linalg.norm() - Норма матрицы или вектора\n",
    "# np.linalg.cond() - Число обусловленности матрицы\n",
    "# np.linalg.det() - Детерминант матрицы\n",
    "# np.linalg.matrix_rank() - Вычисление ранга матрицы по алгоритму SVD\n",
    "# np.trace() - След матрицы\n",
    "# np.linalg.eig() - Вычисление собственных значений и правых собственных векторов\n",
    "# np.linalg.eigvals() - Вычисление собственных значений матрицы\n",
    "# np.linalg.solve() - Решение линейного матричного уравнения\n",
    "# np.linalg.tensorsolve() - Решение линейного тензорного уравнения\n",
    "# np.linalg.lstq() - Решает задачу поиска наименьших квадратов для линейного матричного уравнения\n",
    "# np.linalg.inv() - Вычисление обратной матрицы\n",
    "# np.linalg.pinv() - Вычисление псевдообратной матрицы(Мура-Пенроуза) матрицы\n",
    "# np.linalg.tensorinv() - Вычисление обратного тензора(N-мерного массива)"
   ]
  },
  {
   "cell_type": "code",
   "execution_count": 13,
   "id": "a2e95133",
   "metadata": {},
   "outputs": [
    {
     "name": "stdout",
     "output_type": "stream",
     "text": [
      "[1 2 3 4]\n",
      "\n",
      "(array([1, 2, 3, 4]), array([2, 2, 2, 2]))\n",
      "\n",
      "(array([1, 2, 3, 4]), array([0, 1, 2, 3]))\n",
      "\n",
      "(array([1, 2, 3, 4]), array([0, 1, 2, 3, 3, 2, 1, 0]))\n",
      "\n",
      "[1 2 3 4]\n",
      "\n",
      "[0 1 2 3 3 2 1 0]\n",
      "\n",
      "[1 2 3 4 4 3 2 1]\n",
      "\n",
      "[0 1 2 9]\n",
      "\n",
      "[[0 1 1 2]\n",
      " [9 1 1 2]]\n",
      "\n",
      "[[0 1 2]\n",
      " [0 1 2]\n",
      " [9 1 2]]\n"
     ]
    }
   ],
   "source": [
    "# Множества(unique) и операции над ними\n",
    "a = np.array([1, 2, 3, 4, 4, 3, 2, 1])\n",
    "setA = np.unique(a)\n",
    "print(setA, end = '\\n\\n')\n",
    "print(np.unique(a, return_counts = True), end = '\\n\\n') # return_counts возвращает количество повторов входящих элементов\n",
    "print(np.unique(a, return_index = True), end = '\\n\\n') # return_index возвращает индексы первого вхождения уникальных элементов\n",
    "print(np.unique(a, return_inverse = True), end = '\\n\\n') # return_inverse возвращает индексы, по которым можно точно вернуть первоначальный массив\n",
    "setA, indx = np.unique(a, return_inverse = True)\n",
    "print(setA, end = '\\n\\n')\n",
    "print(indx, end = '\\n\\n')\n",
    "print(setA[indx], end = '\\n\\n')\n",
    "x = np.array([[0, 1, 1, 2], [0, 1, 1, 2], [9, 1, 1, 2]])\n",
    "print(np.unique(x), end = '\\n\\n')\n",
    "print(np.unique(x, axis = 0), end = '\\n\\n')\n",
    "print(np.unique(x, axis = 1))"
   ]
  },
  {
   "cell_type": "code",
   "execution_count": 15,
   "id": "4629d055",
   "metadata": {},
   "outputs": [
    {
     "name": "stdout",
     "output_type": "stream",
     "text": [
      "[False  True  True  True]\n",
      "\n",
      "[False  True  True  True]\n",
      "\n",
      "[1 2 3]\n",
      "\n",
      "[0 1 2 3 4 5 6 7 8]\n",
      "\n",
      "[0]\n",
      "\n",
      "[4 5 6 7 8]\n",
      "\n",
      "[0 4 5 6 7 8]\n"
     ]
    }
   ],
   "source": [
    "x = np.array([0, 1, 2, 3])\n",
    "y = np.array([1, 2, 3, 4, 5, 6, 7, 8])\n",
    "print(np.in1d(x, y), end = '\\n\\n')\n",
    "np.random.shuffle(y)\n",
    "print(np.in1d(x, y), end = '\\n\\n')\n",
    "print(np.intersect1d(x, y), end = '\\n\\n')\n",
    "print(np.union1d(x, y), end = '\\n\\n')\n",
    "print(np.setdiff1d(x, y), end = '\\n\\n')\n",
    "print(np.setdiff1d(y, x), end = '\\n\\n')\n",
    "print(np.setxor1d(x, y))"
   ]
  },
  {
   "cell_type": "code",
   "execution_count": 20,
   "id": "3f4449b2",
   "metadata": {},
   "outputs": [
    {
     "name": "stdout",
     "output_type": "stream",
     "text": [
      "[ 2  4  6 20 40 60]\n",
      "\n",
      "[ 3  4  5 12 22 32]\n",
      "\n",
      "[[ 5  7  9]\n",
      " [ 8 10 12]\n",
      " [11 13 15]]\n",
      "\n",
      "[[[0. 1.]\n",
      "  [0. 1.]]\n",
      "\n",
      " [[2. 3.]\n",
      "  [2. 3.]]\n",
      "\n",
      " [[4. 5.]\n",
      "  [4. 5.]]] (3, 2, 2)\n",
      "\n",
      "[[[11 15 19]\n",
      "  [12 17 22]]\n",
      "\n",
      " [[12 16 20]\n",
      "  [13 18 23]]\n",
      "\n",
      " [[13 17 21]\n",
      "  [14 19 24]]\n",
      "\n",
      " [[14 18 22]\n",
      "  [15 20 25]]] (4, 2, 3)\n",
      "\n",
      "(3, 1, 1) (1, 2, 1) (1, 1, 4)\n",
      "\n",
      "[[[11 12 13 14]\n",
      "  [12 13 14 15]]\n",
      "\n",
      " [[15 16 17 18]\n",
      "  [17 18 19 20]]\n",
      "\n",
      " [[19 20 21 22]\n",
      "  [22 23 24 25]]] (3, 2, 4)\n"
     ]
    }
   ],
   "source": [
    "# Транслирование массивов\n",
    "a = np.array([1, 2, 3, 10, 20, 30])\n",
    "b = np.array([2])\n",
    "print(a * b, end = '\\n\\n')\n",
    "print(a + b, end = '\\n\\n')\n",
    "b = np.array([2, 3])\n",
    "# a * b ValueError \n",
    "# Правила транслирования массивов:\n",
    "# 1. Если массивы имеют разное число осей(размерность), то к массиву с\n",
    "# меньшим их числом добавляются новые так, чтобы размерности совпадали\n",
    "# (Причем добавление всегда происходит с axis0)\n",
    "# 2. Оси с одним элементом расширяются(по числу элементов) так, чтобы\n",
    "# соответствующие размерности двух массивов совпадали\n",
    "a = np.arange(1, 10).reshape(3, 3)\n",
    "b = np.array([4, 5, 6])\n",
    "print(a + b, end = '\\n\\n')\n",
    "a = np.arange(6).reshape(3, 1, 2)\n",
    "b = np.ones(4).reshape(2, 2)\n",
    "print(a * b, (a * b).shape, end = '\\n\\n')\n",
    "a = np.array([1, 2, 3])\n",
    "b = np.array([4, 5])\n",
    "c = np.array([7, 8, 9, 10])\n",
    "a.shape = 1, 1, -1\n",
    "b.shape = 1, -1, 1\n",
    "c.shape = -1, 1, 1\n",
    "print(a * b + c, (a * b + c).shape, end = '\\n\\n')\n",
    "# но можно сделать это действие и легче:\n",
    "a = np.array([1, 2, 3])\n",
    "b = np.array([4, 5])\n",
    "c = np.array([7, 8, 9, 10])\n",
    "an, bn, cn = np.ix_(a, b, c) # но оно работает только с одномерными массивами\n",
    "print(an.shape, bn.shape, cn.shape, end = '\\n\\n')\n",
    "print(an * bn + cn, (an * bn + cn).shape)"
   ]
  }
 ],
 "metadata": {
  "kernelspec": {
   "display_name": "Python 3 (ipykernel)",
   "language": "python",
   "name": "python3"
  },
  "language_info": {
   "codemirror_mode": {
    "name": "ipython",
    "version": 3
   },
   "file_extension": ".py",
   "mimetype": "text/x-python",
   "name": "python",
   "nbconvert_exporter": "python",
   "pygments_lexer": "ipython3",
   "version": "3.11.1"
  }
 },
 "nbformat": 4,
 "nbformat_minor": 5
}
